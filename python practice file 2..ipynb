{
 "cells": [
  {
   "cell_type": "code",
   "execution_count": 1,
   "id": "3b51b5fb-2277-425e-84a7-6c8eba5bb782",
   "metadata": {},
   "outputs": [
    {
     "name": "stdout",
     "output_type": "stream",
     "text": [
      "['False', 'None', 'True', 'and', 'as', 'assert', 'async', 'await', 'break', 'class', 'continue', 'def', 'del', 'elif', 'else', 'except', 'finally', 'for', 'from', 'global', 'if', 'import', 'in', 'is', 'lambda', 'nonlocal', 'not', 'or', 'pass', 'raise', 'return', 'try', 'while', 'with', 'yield']\n"
     ]
    }
   ],
   "source": [
    "import keyword\n",
    "print (keyword.kwlist)\n"
   ]
  },
  {
   "cell_type": "code",
   "execution_count": 2,
   "id": "42fedb82-52e1-4977-91f9-ce9ec238753c",
   "metadata": {},
   "outputs": [
    {
     "name": "stdout",
     "output_type": "stream",
     "text": [
      "True\n"
     ]
    }
   ],
   "source": [
    "import keyword\n",
    "print (keyword.iskeyword('and'))"
   ]
  },
  {
   "cell_type": "code",
   "execution_count": 2,
   "id": "e2880441-9452-453d-a068-36289ecc0b34",
   "metadata": {},
   "outputs": [
    {
     "name": "stdin",
     "output_type": "stream",
     "text": [
      " enter number: 2\n",
      " enter number: 2\n"
     ]
    },
    {
     "name": "stdout",
     "output_type": "stream",
     "text": [
      "4 result:\n"
     ]
    }
   ],
   "source": [
    "a= int(input(\" enter number:\"))\n",
    "b= int(input(\" enter number:\"))\n",
    "d=a*b\n",
    "print(d,\"result:\")"
   ]
  },
  {
   "cell_type": "code",
   "execution_count": 6,
   "id": "6e54d6b0-166b-4eae-9794-6cc1528b6d63",
   "metadata": {},
   "outputs": [
    {
     "name": "stdin",
     "output_type": "stream",
     "text": [
      " enter number: 5\n",
      " enter number: 5\n"
     ]
    },
    {
     "name": "stdout",
     "output_type": "stream",
     "text": [
      "10 result:\n"
     ]
    }
   ],
   "source": [
    "g= int(input(\" enter number:\"))\n",
    "s= int(input(\" enter number:\"))\n",
    "f=g+s\n",
    "print(f,\"result:\")\n"
   ]
  },
  {
   "cell_type": "code",
   "execution_count": null,
   "id": "a3ea7ac2-8416-46ff-9583-8121feb6bdf7",
   "metadata": {},
   "outputs": [],
   "source": []
  }
 ],
 "metadata": {
  "kernelspec": {
   "display_name": "Python 3 (ipykernel)",
   "language": "python",
   "name": "python3"
  },
  "language_info": {
   "codemirror_mode": {
    "name": "ipython",
    "version": 3
   },
   "file_extension": ".py",
   "mimetype": "text/x-python",
   "name": "python",
   "nbconvert_exporter": "python",
   "pygments_lexer": "ipython3",
   "version": "3.11.6"
  }
 },
 "nbformat": 4,
 "nbformat_minor": 5
}
